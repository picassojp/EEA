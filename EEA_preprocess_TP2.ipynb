{
  "nbformat": 4,
  "nbformat_minor": 0,
  "metadata": {
    "colab": {
      "provenance": []
    },
    "kernelspec": {
      "name": "python3",
      "display_name": "Python 3"
    },
    "language_info": {
      "name": "python"
    }
  },
  "cells": [
    {
      "cell_type": "markdown",
      "source": [
        "# 1) Uniendo todos los registros con manifiestos"
      ],
      "metadata": {
        "id": "Q9EegPPQD7G0"
      }
    },
    {
      "cell_type": "code",
      "execution_count": null,
      "metadata": {
        "id": "jw8ogMDOpvKP"
      },
      "outputs": [],
      "source": [
        "import os\n",
        "\n",
        "import pandas as pd\n",
        "\n",
        "import sklearn as sk\n",
        "from sklearn import model_selection\n",
        "from sklearn import ensemble\n",
        "from sklearn import metrics\n",
        "\n",
        "import numpy as np\n",
        "\n",
        "import matplotlib.pyplot as plt\n",
        "\n",
        "import seaborn as sns\n",
        "\n",
        "from math import isnan"
      ]
    },
    {
      "cell_type": "code",
      "execution_count": null,
      "metadata": {
        "colab": {
          "base_uri": "https://localhost:8080/"
        },
        "id": "MXBCaf9z9xam",
        "outputId": "f03b74cd-962e-4a80-86fa-5ef8e8479510"
      },
      "outputs": [
        {
          "output_type": "stream",
          "name": "stdout",
          "text": [
            "Mounted at /content/drive\n"
          ]
        }
      ],
      "source": [
        "from google.colab import drive\n",
        "drive.mount('/content/drive')"
      ]
    },
    {
      "cell_type": "code",
      "source": [
        "#para navegar dentro de las carpetas de drive:\n",
        "#cd drive/ #cambia el directorio actual\n",
        "#!ls #lista los archivos del directorio actual"
      ],
      "metadata": {
        "id": "NeB4gLxR2g2x"
      },
      "execution_count": null,
      "outputs": []
    },
    {
      "cell_type": "code",
      "source": [
        "mt_path = \"drive/MyDrive/\"\n",
        "path = sorted([os.path.join(mt_path, file)\n",
        "                          for file in os.listdir(mt_path)\n",
        "                          if file.endswith('.csv') and file.startswith('residuos_especiales')])"
      ],
      "metadata": {
        "id": "DQEFkoslqCFt"
      },
      "execution_count": null,
      "outputs": []
    },
    {
      "cell_type": "code",
      "source": [
        "#path_csv_rrpp = str('{}residuos_especiales_part1.csv'.format(mt_path))\n",
        "path_csv_rrpp = str('{}residuos_especiales_part2.csv'.format(mt_path))"
      ],
      "metadata": {
        "id": "0vHuSuiB3Jfv"
      },
      "execution_count": null,
      "outputs": []
    },
    {
      "cell_type": "code",
      "source": [
        "len(path)"
      ],
      "metadata": {
        "id": "EEpFzjhgrrfH",
        "colab": {
          "base_uri": "https://localhost:8080/"
        },
        "outputId": "f76212d8-c494-44ae-c542-d21699eff6e2"
      },
      "execution_count": null,
      "outputs": [
        {
          "output_type": "execute_result",
          "data": {
            "text/plain": [
              "170"
            ]
          },
          "metadata": {},
          "execution_count": 6
        }
      ]
    },
    {
      "cell_type": "code",
      "source": [
        "dfrrpp_intermedio = pd.DataFrame()\n",
        "\n",
        "# se busca el csv original\n",
        "for i in path:\n",
        "  #print(path[i])\n",
        "  dfrrpp = pd.read_csv(i, sep=\",\")\n",
        "  # se agrega la fila correspondiente al manifiesto que se está revisando en este ciclo\n",
        "  dfrrpp_intermedio = dfrrpp_intermedio.append(dfrrpp, ignore_index=True)"
      ],
      "metadata": {
        "id": "OgeWKfza0Sox"
      },
      "execution_count": null,
      "outputs": []
    },
    {
      "cell_type": "code",
      "source": [
        "dfrrpp_intermedio.shape"
      ],
      "metadata": {
        "id": "vbVSiYf42ZVX"
      },
      "execution_count": null,
      "outputs": []
    },
    {
      "cell_type": "code",
      "source": [
        "dfrrpp_intermedio.to_csv(path_csv_rrpp, index=False, encoding='utf8')"
      ],
      "metadata": {
        "id": "JZ5jZ15snzYK"
      },
      "execution_count": null,
      "outputs": []
    },
    {
      "cell_type": "markdown",
      "source": [
        "# 2) Juntando los archivos completos de cada drive\n",
        "Una vez corrida la primera parte del código en cada uno de los drives con registros de manifiestos, se carga cada csv completo en el mismo drive y se apendean en un sólo csv."
      ],
      "metadata": {
        "id": "jDIUWbF2DhQf"
      }
    },
    {
      "cell_type": "code",
      "source": [
        "path2 = sorted([os.path.join(mt_path, file)\n",
        "                          for file in os.listdir(mt_path)\n",
        "                          if file.endswith('.csv') and file.startswith('residuos_especiales_part')])"
      ],
      "metadata": {
        "id": "bKlRLDJ_ET35"
      },
      "execution_count": null,
      "outputs": []
    },
    {
      "cell_type": "code",
      "source": [
        "path2[0:3]"
      ],
      "metadata": {
        "id": "EcnklOjSExQ1"
      },
      "execution_count": null,
      "outputs": []
    },
    {
      "cell_type": "code",
      "source": [
        "path_csv_rrpp_comp = str('{}residuos_especiales_completo.csv'.format(mt_path))"
      ],
      "metadata": {
        "id": "ftPWyojLFiHn"
      },
      "execution_count": null,
      "outputs": []
    },
    {
      "cell_type": "code",
      "source": [
        "dfrrpp_completo = pd.DataFrame()\n",
        "\n",
        "# se busca el csv original\n",
        "for i in path2:\n",
        "  #print(path[i])\n",
        "  dfrrpp = pd.read_csv(i, sep=\",\")\n",
        "  # se agrega la fila correspondiente al manifiesto que se está revisando en este ciclo\n",
        "  dfrrpp_completo = dfrrpp_completo.append(dfrrpp, ignore_index=True)"
      ],
      "metadata": {
        "id": "g5ozIHrCE_Oo"
      },
      "execution_count": null,
      "outputs": []
    },
    {
      "cell_type": "code",
      "source": [
        "dfrrpp_completo.shape #se revisa el tamaño del df"
      ],
      "metadata": {
        "id": "pdKYwKtVGJOm"
      },
      "execution_count": null,
      "outputs": []
    },
    {
      "cell_type": "code",
      "source": [
        "dfrrpp_completo.to_csv(path_csv_rrpp_comp, index=False, encoding='utf8') #se guarda el df"
      ],
      "metadata": {
        "id": "TGA9W_GIFZiZ"
      },
      "execution_count": null,
      "outputs": []
    },
    {
      "cell_type": "markdown",
      "source": [
        "# 3) Limpiando el dataframe completo"
      ],
      "metadata": {
        "id": "DxrJbKInIKJw"
      }
    },
    {
      "cell_type": "markdown",
      "source": [
        "Si ya se corrieron las secciones anteriores se puede comenzar a trabajar desde aquí, cargardo el df completo"
      ],
      "metadata": {
        "id": "ojY8but9fJAQ"
      }
    },
    {
      "cell_type": "code",
      "source": [
        "dfrrpp_completo = pd.read_csv(path_csv_rrpp_comp, sep=\",\") #se carga el df completo"
      ],
      "metadata": {
        "id": "3_Zq2zDLIeY0",
        "colab": {
          "base_uri": "https://localhost:8080/"
        },
        "outputId": "5c80001d-cba8-4a15-e07b-760fe95c693d"
      },
      "execution_count": null,
      "outputs": [
        {
          "output_type": "stream",
          "name": "stderr",
          "text": [
            "/usr/local/lib/python3.7/dist-packages/IPython/core/interactiveshell.py:3326: DtypeWarning: Columns (48,60,67,73,80,87,93,94,95,96,98,99,106,113,114,115,116,118,119,120,121,122,124,125,126,127,128,129,130,131,132,133,134,135,136,137,138,139,140,141,142,143,144,145,146,147,148,149,151,152,153,154,155,157,158,159,160,161,163,164,165,166,167,168,169,170,171,172,173,174,175,176,177,178,179,180,181,182,183,184,185,186,187,188,189,190,191,192,193,194,195,196,197,198,199,200,201,202,203,204,205,206,207,208,209,210,211,212,213,214,215,216,218,219,220,221,222,224,225,226,227,228,230,231,232,233,234,236,237,238,239,240,242,243,244,245,246,248,249,250,251,252,254,255,256,257,258,259,260,261,262,263,264,265,266,267,268,269,270,271,272,273,274,275,276,277,278,279,280,281,282,283,284,285,286,287,288,289,290,291,292,293,294,295,296,297,298,299,300,301,302,303,304,305,306,307,309,310,311,312,313,315,316,317,318,319,321,322,323,324,325,327,328,329,330,331,333,334,335,336,337,339,340,341,342,343,345,346) have mixed types.Specify dtype option on import or set low_memory=False.\n",
            "  exec(code_obj, self.user_global_ns, self.user_ns)\n"
          ]
        }
      ]
    },
    {
      "cell_type": "code",
      "source": [
        "dfrrpp_completo.head()"
      ],
      "metadata": {
        "id": "7xcrTVjhI8GC"
      },
      "execution_count": null,
      "outputs": []
    },
    {
      "cell_type": "code",
      "source": [
        "dfrrpp_completo.shape"
      ],
      "metadata": {
        "id": "hs_fOpdXmV9A"
      },
      "execution_count": null,
      "outputs": []
    },
    {
      "cell_type": "code",
      "source": [
        "dfrrpp_completo.columns"
      ],
      "metadata": {
        "id": "4OcgoSr6JK6A"
      },
      "execution_count": null,
      "outputs": []
    },
    {
      "cell_type": "code",
      "source": [
        "dfrrpp_completo.drop_duplicates(inplace=True)"
      ],
      "metadata": {
        "id": "7n78tF0k7zfB"
      },
      "execution_count": null,
      "outputs": []
    },
    {
      "cell_type": "code",
      "source": [
        "dfrrpp_completo.estado.unique()"
      ],
      "metadata": {
        "id": "NpqOAngkJVPd"
      },
      "execution_count": null,
      "outputs": []
    },
    {
      "cell_type": "code",
      "source": [
        "#se revisan los tamaños del data según distintos filtros\n",
        "print(dfrrpp_completo.shape)\n",
        "print(dfrrpp_completo[dfrrpp_completo['estado']=='CERRADO'].shape)"
      ],
      "metadata": {
        "id": "8Wvxp7n2It47"
      },
      "execution_count": null,
      "outputs": []
    },
    {
      "cell_type": "code",
      "source": [
        "dfrrpp_completo = dfrrpp_completo[dfrrpp_completo['estado']=='CERRADO']"
      ],
      "metadata": {
        "id": "5VjrItEiN9jf"
      },
      "execution_count": null,
      "outputs": []
    },
    {
      "cell_type": "code",
      "source": [
        "cols_cantidad = [col for col in dfrrpp_completo.columns if 'cantidad_verif' in col]"
      ],
      "metadata": {
        "id": "8rKMESUuKu9J"
      },
      "execution_count": null,
      "outputs": []
    },
    {
      "cell_type": "code",
      "source": [
        "cols_cantidad"
      ],
      "metadata": {
        "id": "0pst0-p6LGgY"
      },
      "execution_count": null,
      "outputs": []
    },
    {
      "cell_type": "code",
      "source": [
        "dfrrpp_completo[cols_cantidad].head()"
      ],
      "metadata": {
        "id": "XH3WigXeLacK"
      },
      "execution_count": null,
      "outputs": []
    },
    {
      "cell_type": "code",
      "source": [
        "dfrrpp_completo[cols_cantidad].sum(axis=1) #se suman las columnas de cantidades"
      ],
      "metadata": {
        "id": "YYhNl4_MMos-"
      },
      "execution_count": null,
      "outputs": []
    },
    {
      "cell_type": "code",
      "source": [
        "dfrrpp_completo['cantidad_total'] = dfrrpp_completo[cols_cantidad].sum(axis=1)"
      ],
      "metadata": {
        "id": "E2ByNrmDO3gP"
      },
      "execution_count": null,
      "outputs": []
    },
    {
      "cell_type": "code",
      "source": [
        "cols_utiles = ['numero', 'fecha_retiro', 'cantidad_total'] #se arma una lista con los nombres de la cols a seleccionar"
      ],
      "metadata": {
        "id": "Wu5F8xcxOUi_"
      },
      "execution_count": null,
      "outputs": []
    },
    {
      "cell_type": "code",
      "source": [
        "cols_utiles"
      ],
      "metadata": {
        "id": "CEat-HdCOq7R"
      },
      "execution_count": null,
      "outputs": []
    },
    {
      "cell_type": "code",
      "source": [
        "dfrrpp_resumido = dfrrpp_completo[cols_utiles] #se filtran las columnas que se van a utilizar para el modelo"
      ],
      "metadata": {
        "id": "GpvlnvjMOL48"
      },
      "execution_count": null,
      "outputs": []
    },
    {
      "cell_type": "code",
      "source": [
        "dfrrpp_resumido.shape #se revisa la forma del df"
      ],
      "metadata": {
        "id": "6y5aEEZGPJf-"
      },
      "execution_count": null,
      "outputs": []
    },
    {
      "cell_type": "code",
      "source": [
        "dfrrpp_resumido.head()"
      ],
      "metadata": {
        "id": "VUyujQZcPSZP"
      },
      "execution_count": null,
      "outputs": []
    },
    {
      "cell_type": "code",
      "source": [
        "dfrrpp_resumido['fecha_retiro'] = dfrrpp_resumido['fecha_retiro'].map(lambda x: x.lstrip('Fecha de Viaje: ').rstrip())"
      ],
      "metadata": {
        "id": "qwDe4H9DQP8I"
      },
      "execution_count": null,
      "outputs": []
    },
    {
      "cell_type": "code",
      "source": [
        "!pip install dateparser #se instala el paquete para trabajar con str con formato de fechas\n",
        "import dateparser #se importa el paquete"
      ],
      "metadata": {
        "id": "jgpRCfhCTAzx"
      },
      "execution_count": null,
      "outputs": []
    },
    {
      "cell_type": "code",
      "source": [
        "dfrrpp_resumido['fecha_retiro_2'] = dfrrpp_resumido.fecha_retiro.map(dateparser.parse) #se mapea cada una de las fechas y se modifica a un formato más estandarizado"
      ],
      "metadata": {
        "id": "sCtjdQ2wS5el"
      },
      "execution_count": null,
      "outputs": []
    },
    {
      "cell_type": "code",
      "source": [
        "dfrrpp_resumido.head() #se revisan los cambios"
      ],
      "metadata": {
        "id": "5cskC2jzdsSY"
      },
      "execution_count": null,
      "outputs": []
    },
    {
      "cell_type": "code",
      "source": [
        "dfrrpp_resumido.drop(labels='fecha_retiro', axis=1, inplace=True) #se dropea la columna anterior de fecha"
      ],
      "metadata": {
        "id": "7zd71BOgDnnP"
      },
      "execution_count": null,
      "outputs": []
    },
    {
      "cell_type": "code",
      "source": [
        "print(pd.DatetimeIndex(dfrrpp_resumido['fecha_retiro_2']).year)"
      ],
      "metadata": {
        "id": "vJ1xv7ceQ7Ed"
      },
      "execution_count": null,
      "outputs": []
    },
    {
      "cell_type": "code",
      "source": [
        "dfrrpp_resumido.sort_values('fecha_retiro_2', ascending=False) #se buscan años atípicos"
      ],
      "metadata": {
        "id": "AYLqzhFeeq5i"
      },
      "execution_count": null,
      "outputs": []
    },
    {
      "cell_type": "code",
      "source": [
        "dfrrpp_resumido['year'] = pd.DatetimeIndex(dfrrpp_resumido['fecha_retiro_2']).year #se agrega la columna con el año"
      ],
      "metadata": {
        "id": "uYCSmFabBBiM"
      },
      "execution_count": null,
      "outputs": []
    },
    {
      "cell_type": "code",
      "source": [
        "dfrrpp_resumido.groupby('year').count() #se revisa la cantidad de manifiestos por año"
      ],
      "metadata": {
        "id": "eX3yFDw1BWUg"
      },
      "execution_count": null,
      "outputs": []
    },
    {
      "cell_type": "code",
      "source": [
        "#dfrrpp_resumido[(dfrrpp_resumido['year']<2022) & (dfrrpp_resumido['year']>2015)].shape \n",
        "dfrrpp_resumido = dfrrpp_resumido[(dfrrpp_resumido['year']<2022) & (dfrrpp_resumido['year']>2015)] #se seleccionan los años con una distribución más homogénea: 2016 a 2021"
      ],
      "metadata": {
        "id": "1XXINpflAh6L"
      },
      "execution_count": null,
      "outputs": []
    },
    {
      "cell_type": "code",
      "source": [
        "dfrrpp_resumido.head()"
      ],
      "metadata": {
        "id": "yowA-rJODaV6"
      },
      "execution_count": null,
      "outputs": []
    },
    {
      "cell_type": "code",
      "source": [
        "dfrrpp_resumido.rename(columns={'fecha_retiro_2':'fecha_retiro'}, inplace=True) #por ultimo se cambia el nombre de la columna de fecha"
      ],
      "metadata": {
        "id": "QzznIFGUEh0R"
      },
      "execution_count": null,
      "outputs": []
    },
    {
      "cell_type": "code",
      "source": [],
      "metadata": {
        "id": "a0bBgaynPDNg"
      },
      "execution_count": null,
      "outputs": []
    },
    {
      "cell_type": "markdown",
      "source": [
        "# 4) Guardado del dataset resumido"
      ],
      "metadata": {
        "id": "ssMK5xerO5Nk"
      }
    },
    {
      "cell_type": "code",
      "source": [
        "path_csv_rrpp_resum = str('{}residuos_especiales_resumido.csv'.format(mt_path))"
      ],
      "metadata": {
        "id": "M1i0D-VDFgro"
      },
      "execution_count": null,
      "outputs": []
    },
    {
      "cell_type": "code",
      "source": [
        "dfrrpp_resumido.to_csv(path_csv_rrpp_resum, index=False, encoding='utf8') #se guarda el df"
      ],
      "metadata": {
        "id": "76_p83XkFD8q"
      },
      "execution_count": null,
      "outputs": []
    },
    {
      "cell_type": "markdown",
      "source": [
        "# 5) Filtrando para descargar y trabajar localmente en R"
      ],
      "metadata": {
        "id": "6NIhgomTiCvk"
      }
    },
    {
      "cell_type": "code",
      "source": [
        "dfrrpp_completo = pd.read_csv(path_csv_rrpp_comp, sep=\",\") #se carga el df completo"
      ],
      "metadata": {
        "colab": {
          "base_uri": "https://localhost:8080/",
          "height": 165
        },
        "id": "wZIdfXt0xUvq",
        "outputId": "1d329dc0-cd10-4ea2-a3ab-d72e92f2e601"
      },
      "execution_count": null,
      "outputs": [
        {
          "output_type": "error",
          "ename": "NameError",
          "evalue": "ignored",
          "traceback": [
            "\u001b[0;31m---------------------------------------------------------------------------\u001b[0m",
            "\u001b[0;31mNameError\u001b[0m                                 Traceback (most recent call last)",
            "\u001b[0;32m<ipython-input-1-b2d90d56e928>\u001b[0m in \u001b[0;36m<module>\u001b[0;34m\u001b[0m\n\u001b[0;32m----> 1\u001b[0;31m \u001b[0mdfrrpp_completo\u001b[0m \u001b[0;34m=\u001b[0m \u001b[0mpd\u001b[0m\u001b[0;34m.\u001b[0m\u001b[0mread_csv\u001b[0m\u001b[0;34m(\u001b[0m\u001b[0mpath_csv_rrpp_comp\u001b[0m\u001b[0;34m,\u001b[0m \u001b[0msep\u001b[0m\u001b[0;34m=\u001b[0m\u001b[0;34m\",\"\u001b[0m\u001b[0;34m)\u001b[0m \u001b[0;31m#se carga el df completo\u001b[0m\u001b[0;34m\u001b[0m\u001b[0;34m\u001b[0m\u001b[0m\n\u001b[0m",
            "\u001b[0;31mNameError\u001b[0m: name 'pd' is not defined"
          ]
        }
      ]
    },
    {
      "cell_type": "code",
      "source": [
        "dfrrpp_completo.head()"
      ],
      "metadata": {
        "colab": {
          "base_uri": "https://localhost:8080/",
          "height": 473
        },
        "id": "cg9uqWmAm3CW",
        "outputId": "7d5ff54d-cfef-4b82-a7ca-dfec32565dc2"
      },
      "execution_count": null,
      "outputs": [
        {
          "output_type": "execute_result",
          "data": {
            "text/plain": [
              "    numero    estado certificado                fecha_retiro     tipo_mt  \\\n",
              "0  3000312   CERRADO      875263  Fecha de Viaje: 30/05/2016  Especiales   \n",
              "1  3000313   CERRADO      902328  Fecha de Viaje: 31/05/2016  Especiales   \n",
              "2  3000316   CERRADO      856441  Fecha de Viaje: 24/05/2016  Especiales   \n",
              "3  3000317  VALIDADO   pendiente  Fecha de Viaje: 27/05/2016  Especiales   \n",
              "4  3000321   CERRADO      902426  Fecha de Viaje: 27/05/2016  Especiales   \n",
              "\n",
              "      origen    grei            cuit_generador  \\\n",
              "0  Generador  5810.0  30-70759184/2 (Id:11081)   \n",
              "1  Generador     NaN  30-67813830/0 (Id:55627)   \n",
              "2  Generador     NaN  30-50336489/8 (Id:53866)   \n",
              "3  Generador     NaN  30-71161663/9 (Id:41589)   \n",
              "4  Generador     NaN       30-70969422/3 (Id:)   \n",
              "\n",
              "           razon_social_generador                         domicilio_generador  \\\n",
              "0                  GAS LANUS S.A.     25 DE MAYO Nº : 883 Ruta: : 210 (PAV?N)   \n",
              "1       WAL MART ARGENTINA S.R.L.                           SAAVEDRA Nº : S/N   \n",
              "2                      SIEMENS SA  RUTA 3 Nº : KM 704 Ruta: : RUTA 3 Km:: 704   \n",
              "3  CONCENTRADOS Y COMPUESTOS S.A.               23 Nº : 431 Ruta: : 8 Km:: 60   \n",
              "4                  G P PHARM S.A.                            PANAMA Nº : 2121   \n",
              "\n",
              "   ... caracteristica_verif_24 cantidad_verif_24 estado_fisico_verif_24  \\\n",
              "0  ...                     NaN               NaN                    NaN   \n",
              "1  ...                     NaN               NaN                    NaN   \n",
              "2  ...                     NaN               NaN                    NaN   \n",
              "3  ...                     NaN               NaN                    NaN   \n",
              "4  ...                     NaN               NaN                    NaN   \n",
              "\n",
              "  observaciones_verif_24 composicion_verif_25 categoria_verif_25  \\\n",
              "0                    NaN                  NaN                NaN   \n",
              "1                    NaN                  NaN                NaN   \n",
              "2                    NaN                  NaN                NaN   \n",
              "3                    NaN                  NaN                NaN   \n",
              "4                    NaN                  NaN                NaN   \n",
              "\n",
              "  caracteristica_verif_25 cantidad_verif_25 estado_fisico_verif_25  \\\n",
              "0                     NaN               NaN                    NaN   \n",
              "1                     NaN               NaN                    NaN   \n",
              "2                     NaN               NaN                    NaN   \n",
              "3                     NaN               NaN                    NaN   \n",
              "4                     NaN               NaN                    NaN   \n",
              "\n",
              "   observaciones_verif_25  \n",
              "0                     NaN  \n",
              "1                     NaN  \n",
              "2                     NaN  \n",
              "3                     NaN  \n",
              "4                     NaN  \n",
              "\n",
              "[5 rows x 347 columns]"
            ],
            "text/html": [
              "\n",
              "  <div id=\"df-07564c21-5064-4d3a-a919-5dc8b7de1c6a\">\n",
              "    <div class=\"colab-df-container\">\n",
              "      <div>\n",
              "<style scoped>\n",
              "    .dataframe tbody tr th:only-of-type {\n",
              "        vertical-align: middle;\n",
              "    }\n",
              "\n",
              "    .dataframe tbody tr th {\n",
              "        vertical-align: top;\n",
              "    }\n",
              "\n",
              "    .dataframe thead th {\n",
              "        text-align: right;\n",
              "    }\n",
              "</style>\n",
              "<table border=\"1\" class=\"dataframe\">\n",
              "  <thead>\n",
              "    <tr style=\"text-align: right;\">\n",
              "      <th></th>\n",
              "      <th>numero</th>\n",
              "      <th>estado</th>\n",
              "      <th>certificado</th>\n",
              "      <th>fecha_retiro</th>\n",
              "      <th>tipo_mt</th>\n",
              "      <th>origen</th>\n",
              "      <th>grei</th>\n",
              "      <th>cuit_generador</th>\n",
              "      <th>razon_social_generador</th>\n",
              "      <th>domicilio_generador</th>\n",
              "      <th>...</th>\n",
              "      <th>caracteristica_verif_24</th>\n",
              "      <th>cantidad_verif_24</th>\n",
              "      <th>estado_fisico_verif_24</th>\n",
              "      <th>observaciones_verif_24</th>\n",
              "      <th>composicion_verif_25</th>\n",
              "      <th>categoria_verif_25</th>\n",
              "      <th>caracteristica_verif_25</th>\n",
              "      <th>cantidad_verif_25</th>\n",
              "      <th>estado_fisico_verif_25</th>\n",
              "      <th>observaciones_verif_25</th>\n",
              "    </tr>\n",
              "  </thead>\n",
              "  <tbody>\n",
              "    <tr>\n",
              "      <th>0</th>\n",
              "      <td>3000312</td>\n",
              "      <td>CERRADO</td>\n",
              "      <td>875263</td>\n",
              "      <td>Fecha de Viaje: 30/05/2016</td>\n",
              "      <td>Especiales</td>\n",
              "      <td>Generador</td>\n",
              "      <td>5810.0</td>\n",
              "      <td>30-70759184/2 (Id:11081)</td>\n",
              "      <td>GAS LANUS S.A.</td>\n",
              "      <td>25 DE MAYO Nº : 883 Ruta: : 210 (PAV?N)</td>\n",
              "      <td>...</td>\n",
              "      <td>NaN</td>\n",
              "      <td>NaN</td>\n",
              "      <td>NaN</td>\n",
              "      <td>NaN</td>\n",
              "      <td>NaN</td>\n",
              "      <td>NaN</td>\n",
              "      <td>NaN</td>\n",
              "      <td>NaN</td>\n",
              "      <td>NaN</td>\n",
              "      <td>NaN</td>\n",
              "    </tr>\n",
              "    <tr>\n",
              "      <th>1</th>\n",
              "      <td>3000313</td>\n",
              "      <td>CERRADO</td>\n",
              "      <td>902328</td>\n",
              "      <td>Fecha de Viaje: 31/05/2016</td>\n",
              "      <td>Especiales</td>\n",
              "      <td>Generador</td>\n",
              "      <td>NaN</td>\n",
              "      <td>30-67813830/0 (Id:55627)</td>\n",
              "      <td>WAL MART ARGENTINA S.R.L.</td>\n",
              "      <td>SAAVEDRA Nº : S/N</td>\n",
              "      <td>...</td>\n",
              "      <td>NaN</td>\n",
              "      <td>NaN</td>\n",
              "      <td>NaN</td>\n",
              "      <td>NaN</td>\n",
              "      <td>NaN</td>\n",
              "      <td>NaN</td>\n",
              "      <td>NaN</td>\n",
              "      <td>NaN</td>\n",
              "      <td>NaN</td>\n",
              "      <td>NaN</td>\n",
              "    </tr>\n",
              "    <tr>\n",
              "      <th>2</th>\n",
              "      <td>3000316</td>\n",
              "      <td>CERRADO</td>\n",
              "      <td>856441</td>\n",
              "      <td>Fecha de Viaje: 24/05/2016</td>\n",
              "      <td>Especiales</td>\n",
              "      <td>Generador</td>\n",
              "      <td>NaN</td>\n",
              "      <td>30-50336489/8 (Id:53866)</td>\n",
              "      <td>SIEMENS SA</td>\n",
              "      <td>RUTA 3 Nº : KM 704 Ruta: : RUTA 3 Km:: 704</td>\n",
              "      <td>...</td>\n",
              "      <td>NaN</td>\n",
              "      <td>NaN</td>\n",
              "      <td>NaN</td>\n",
              "      <td>NaN</td>\n",
              "      <td>NaN</td>\n",
              "      <td>NaN</td>\n",
              "      <td>NaN</td>\n",
              "      <td>NaN</td>\n",
              "      <td>NaN</td>\n",
              "      <td>NaN</td>\n",
              "    </tr>\n",
              "    <tr>\n",
              "      <th>3</th>\n",
              "      <td>3000317</td>\n",
              "      <td>VALIDADO</td>\n",
              "      <td>pendiente</td>\n",
              "      <td>Fecha de Viaje: 27/05/2016</td>\n",
              "      <td>Especiales</td>\n",
              "      <td>Generador</td>\n",
              "      <td>NaN</td>\n",
              "      <td>30-71161663/9 (Id:41589)</td>\n",
              "      <td>CONCENTRADOS Y COMPUESTOS S.A.</td>\n",
              "      <td>23 Nº : 431 Ruta: : 8 Km:: 60</td>\n",
              "      <td>...</td>\n",
              "      <td>NaN</td>\n",
              "      <td>NaN</td>\n",
              "      <td>NaN</td>\n",
              "      <td>NaN</td>\n",
              "      <td>NaN</td>\n",
              "      <td>NaN</td>\n",
              "      <td>NaN</td>\n",
              "      <td>NaN</td>\n",
              "      <td>NaN</td>\n",
              "      <td>NaN</td>\n",
              "    </tr>\n",
              "    <tr>\n",
              "      <th>4</th>\n",
              "      <td>3000321</td>\n",
              "      <td>CERRADO</td>\n",
              "      <td>902426</td>\n",
              "      <td>Fecha de Viaje: 27/05/2016</td>\n",
              "      <td>Especiales</td>\n",
              "      <td>Generador</td>\n",
              "      <td>NaN</td>\n",
              "      <td>30-70969422/3 (Id:)</td>\n",
              "      <td>G P PHARM S.A.</td>\n",
              "      <td>PANAMA Nº : 2121</td>\n",
              "      <td>...</td>\n",
              "      <td>NaN</td>\n",
              "      <td>NaN</td>\n",
              "      <td>NaN</td>\n",
              "      <td>NaN</td>\n",
              "      <td>NaN</td>\n",
              "      <td>NaN</td>\n",
              "      <td>NaN</td>\n",
              "      <td>NaN</td>\n",
              "      <td>NaN</td>\n",
              "      <td>NaN</td>\n",
              "    </tr>\n",
              "  </tbody>\n",
              "</table>\n",
              "<p>5 rows × 347 columns</p>\n",
              "</div>\n",
              "      <button class=\"colab-df-convert\" onclick=\"convertToInteractive('df-07564c21-5064-4d3a-a919-5dc8b7de1c6a')\"\n",
              "              title=\"Convert this dataframe to an interactive table.\"\n",
              "              style=\"display:none;\">\n",
              "        \n",
              "  <svg xmlns=\"http://www.w3.org/2000/svg\" height=\"24px\"viewBox=\"0 0 24 24\"\n",
              "       width=\"24px\">\n",
              "    <path d=\"M0 0h24v24H0V0z\" fill=\"none\"/>\n",
              "    <path d=\"M18.56 5.44l.94 2.06.94-2.06 2.06-.94-2.06-.94-.94-2.06-.94 2.06-2.06.94zm-11 1L8.5 8.5l.94-2.06 2.06-.94-2.06-.94L8.5 2.5l-.94 2.06-2.06.94zm10 10l.94 2.06.94-2.06 2.06-.94-2.06-.94-.94-2.06-.94 2.06-2.06.94z\"/><path d=\"M17.41 7.96l-1.37-1.37c-.4-.4-.92-.59-1.43-.59-.52 0-1.04.2-1.43.59L10.3 9.45l-7.72 7.72c-.78.78-.78 2.05 0 2.83L4 21.41c.39.39.9.59 1.41.59.51 0 1.02-.2 1.41-.59l7.78-7.78 2.81-2.81c.8-.78.8-2.07 0-2.86zM5.41 20L4 18.59l7.72-7.72 1.47 1.35L5.41 20z\"/>\n",
              "  </svg>\n",
              "      </button>\n",
              "      \n",
              "  <style>\n",
              "    .colab-df-container {\n",
              "      display:flex;\n",
              "      flex-wrap:wrap;\n",
              "      gap: 12px;\n",
              "    }\n",
              "\n",
              "    .colab-df-convert {\n",
              "      background-color: #E8F0FE;\n",
              "      border: none;\n",
              "      border-radius: 50%;\n",
              "      cursor: pointer;\n",
              "      display: none;\n",
              "      fill: #1967D2;\n",
              "      height: 32px;\n",
              "      padding: 0 0 0 0;\n",
              "      width: 32px;\n",
              "    }\n",
              "\n",
              "    .colab-df-convert:hover {\n",
              "      background-color: #E2EBFA;\n",
              "      box-shadow: 0px 1px 2px rgba(60, 64, 67, 0.3), 0px 1px 3px 1px rgba(60, 64, 67, 0.15);\n",
              "      fill: #174EA6;\n",
              "    }\n",
              "\n",
              "    [theme=dark] .colab-df-convert {\n",
              "      background-color: #3B4455;\n",
              "      fill: #D2E3FC;\n",
              "    }\n",
              "\n",
              "    [theme=dark] .colab-df-convert:hover {\n",
              "      background-color: #434B5C;\n",
              "      box-shadow: 0px 1px 3px 1px rgba(0, 0, 0, 0.15);\n",
              "      filter: drop-shadow(0px 1px 2px rgba(0, 0, 0, 0.3));\n",
              "      fill: #FFFFFF;\n",
              "    }\n",
              "  </style>\n",
              "\n",
              "      <script>\n",
              "        const buttonEl =\n",
              "          document.querySelector('#df-07564c21-5064-4d3a-a919-5dc8b7de1c6a button.colab-df-convert');\n",
              "        buttonEl.style.display =\n",
              "          google.colab.kernel.accessAllowed ? 'block' : 'none';\n",
              "\n",
              "        async function convertToInteractive(key) {\n",
              "          const element = document.querySelector('#df-07564c21-5064-4d3a-a919-5dc8b7de1c6a');\n",
              "          const dataTable =\n",
              "            await google.colab.kernel.invokeFunction('convertToInteractive',\n",
              "                                                     [key], {});\n",
              "          if (!dataTable) return;\n",
              "\n",
              "          const docLinkHtml = 'Like what you see? Visit the ' +\n",
              "            '<a target=\"_blank\" href=https://colab.research.google.com/notebooks/data_table.ipynb>data table notebook</a>'\n",
              "            + ' to learn more about interactive tables.';\n",
              "          element.innerHTML = '';\n",
              "          dataTable['output_type'] = 'display_data';\n",
              "          await google.colab.output.renderOutput(dataTable, element);\n",
              "          const docLink = document.createElement('div');\n",
              "          docLink.innerHTML = docLinkHtml;\n",
              "          element.appendChild(docLink);\n",
              "        }\n",
              "      </script>\n",
              "    </div>\n",
              "  </div>\n",
              "  "
            ]
          },
          "metadata": {},
          "execution_count": 11
        }
      ]
    },
    {
      "cell_type": "code",
      "source": [
        "dfrrpp_completo.shape"
      ],
      "metadata": {
        "colab": {
          "base_uri": "https://localhost:8080/"
        },
        "id": "xfkPHzSWGPVx",
        "outputId": "b8a9d2fe-41da-4e9f-f70a-e91d6fe77af0"
      },
      "execution_count": null,
      "outputs": [
        {
          "output_type": "execute_result",
          "data": {
            "text/plain": [
              "(544720, 347)"
            ]
          },
          "metadata": {},
          "execution_count": 9
        }
      ]
    },
    {
      "cell_type": "code",
      "source": [
        "dfrrpp_completo = dfrrpp_completo[dfrrpp_completo['estado']=='CERRADO'] #se filtra por los manifiestos \"cerrados\""
      ],
      "metadata": {
        "id": "awD0gmCrGM0Y"
      },
      "execution_count": null,
      "outputs": []
    },
    {
      "cell_type": "code",
      "source": [
        "dfrrpp_completo.shape"
      ],
      "metadata": {
        "colab": {
          "base_uri": "https://localhost:8080/"
        },
        "id": "RCFyirvJGS-S",
        "outputId": "48ac7994-1fe9-49d0-dc9d-b15dcdae04ab"
      },
      "execution_count": null,
      "outputs": [
        {
          "output_type": "execute_result",
          "data": {
            "text/plain": [
              "(418787, 347)"
            ]
          },
          "metadata": {},
          "execution_count": 14
        }
      ]
    },
    {
      "cell_type": "code",
      "source": [
        "dfrrpp_completo['fecha_retiro'] = dfrrpp_completo['fecha_retiro'].map(lambda x: x.lstrip('Fecha de Viaje: ').rstrip())"
      ],
      "metadata": {
        "id": "vRCOIDd_nBFw"
      },
      "execution_count": null,
      "outputs": []
    },
    {
      "cell_type": "code",
      "source": [
        "dfrrpp_completo['fecha_retiro'].str.contains(pat = \"2021|2020|2019|2018|2017|2016\").sum() #se calcula la cantidad de registros para el período 2016-2021"
      ],
      "metadata": {
        "colab": {
          "base_uri": "https://localhost:8080/"
        },
        "id": "a5iM_aOaFEbV",
        "outputId": "3a0308a0-ae1b-4027-e2ad-3516ed4a3cbc"
      },
      "execution_count": null,
      "outputs": [
        {
          "output_type": "execute_result",
          "data": {
            "text/plain": [
              "471742"
            ]
          },
          "metadata": {},
          "execution_count": 10
        }
      ]
    },
    {
      "cell_type": "code",
      "source": [
        "dfrrpp_completo = dfrrpp_completo[(dfrrpp_completo['fecha_retiro'].str.contains(pat = \"2021|2020|2019|2018|2017|2016\"))] #se filtra el df"
      ],
      "metadata": {
        "id": "ttUpdxigO3_L"
      },
      "execution_count": null,
      "outputs": []
    },
    {
      "cell_type": "code",
      "source": [
        "dfrrpp_completo['fecha_retiro'].str.contains(pat = \"2022|2015\").sum() #se revisa que no queden registros de otros años"
      ],
      "metadata": {
        "colab": {
          "base_uri": "https://localhost:8080/"
        },
        "id": "NrbcmUwNHw9r",
        "outputId": "6fbf1421-a964-4c78-c913-255e172d88f0"
      },
      "execution_count": null,
      "outputs": [
        {
          "output_type": "execute_result",
          "data": {
            "text/plain": [
              "0"
            ]
          },
          "metadata": {},
          "execution_count": 18
        }
      ]
    },
    {
      "cell_type": "code",
      "source": [
        "dfrrpp_completo.info(memory_usage='deep') #estimación del peso del df"
      ],
      "metadata": {
        "colab": {
          "base_uri": "https://localhost:8080/"
        },
        "id": "9qduLOT7IylU",
        "outputId": "c1b900fe-5320-43ef-8d73-c7b8e5bea558"
      },
      "execution_count": null,
      "outputs": [
        {
          "output_type": "stream",
          "name": "stdout",
          "text": [
            "<class 'pandas.core.frame.DataFrame'>\n",
            "Int64Index: 395325 entries, 0 to 514950\n",
            "Columns: 347 entries, numero to observaciones_verif_25\n",
            "dtypes: float64(28), int64(1), object(318)\n",
            "memory usage: 4.4 GB\n"
          ]
        }
      ]
    },
    {
      "cell_type": "code",
      "source": [
        "#hace falta achicar más el df. Se prueba eliminando algunas columnas\n",
        "dfrrpp_completo.drop('estado', inplace=True, axis=1)\n",
        "dfrrpp_completo.drop('tipo_mt', inplace=True, axis=1)\n",
        "dfrrpp_completo.drop('origen', inplace=True, axis=1)\n",
        "dfrrpp_completo.drop('grei', inplace=True, axis=1)"
      ],
      "metadata": {
        "id": "pNuHCyxLODF-"
      },
      "execution_count": null,
      "outputs": []
    },
    {
      "cell_type": "code",
      "source": [
        "dfrrpp_completo.columns.shape #cantidad de columnas: demasiadas"
      ],
      "metadata": {
        "colab": {
          "base_uri": "https://localhost:8080/"
        },
        "id": "8xDUOhPPRBFS",
        "outputId": "fde9e027-5714-4710-da8e-d6d798b90cae"
      },
      "execution_count": null,
      "outputs": [
        {
          "output_type": "execute_result",
          "data": {
            "text/plain": [
              "(343,)"
            ]
          },
          "metadata": {},
          "execution_count": 24
        }
      ]
    },
    {
      "cell_type": "code",
      "source": [
        "dfrrpp_completo.filter(regex=(\"numero|certificado|fecha_retiro|generador$|transportista$|destino$|_verif_1$|_verif_2$|_verif_3$|_verif_4$|_verif_5$|_verif_6$|_verif_7$|_verif_8$|_verif_9$|_verif_10$\")).info(memory_usage='deep') #estimación del peso del df\n",
        "#se observa, como era de esperar, que a medida que aumenta el orden del residuo, mayor cantidad de nulos se encuentran\n",
        "#por esto se opta por eliminar los ordenes mayores a 3, tomando una representación de al menos 5% del total de registros"
      ],
      "metadata": {
        "colab": {
          "base_uri": "https://localhost:8080/"
        },
        "id": "v-_9BZ1c3vu9",
        "outputId": "2a657442-f1a9-46d3-e846-5d6dbc0dfa00"
      },
      "execution_count": null,
      "outputs": [
        {
          "output_type": "stream",
          "name": "stdout",
          "text": [
            "<class 'pandas.core.frame.DataFrame'>\n",
            "Int64Index: 395325 entries, 0 to 514950\n",
            "Data columns (total 78 columns):\n",
            " #   Column                      Non-Null Count   Dtype  \n",
            "---  ------                      --------------   -----  \n",
            " 0   numero                      395325 non-null  int64  \n",
            " 1   certificado                 395325 non-null  object \n",
            " 2   fecha_retiro                395325 non-null  object \n",
            " 3   cuit_generador              395325 non-null  object \n",
            " 4   razon_social_generador      395325 non-null  object \n",
            " 5   domicilio_generador         395325 non-null  object \n",
            " 6   localidad_generador         395325 non-null  object \n",
            " 7   cuit_transportista          395325 non-null  object \n",
            " 8   che_transportista           395325 non-null  float64\n",
            " 9   razon_social_transportista  395325 non-null  object \n",
            " 10  domicilio_transportista     395325 non-null  object \n",
            " 11  localidad_transportista     395325 non-null  object \n",
            " 12  destino                     395325 non-null  object \n",
            " 13  che_destino                 272877 non-null  float64\n",
            " 14  cuit_destino                395325 non-null  object \n",
            " 15  razon_social_destino        395325 non-null  object \n",
            " 16  domicilio_destino           395325 non-null  object \n",
            " 17  localidad_destino           395325 non-null  object \n",
            " 18  composicion_verif_1         395324 non-null  object \n",
            " 19  categoria_verif_1           395324 non-null  object \n",
            " 20  caracteristica_verif_1      395324 non-null  object \n",
            " 21  cantidad_verif_1            395324 non-null  float64\n",
            " 22  estado_fisico_verif_1       395324 non-null  object \n",
            " 23  observaciones_verif_1       92058 non-null   object \n",
            " 24  composicion_verif_2         59914 non-null   object \n",
            " 25  categoria_verif_2           59915 non-null   object \n",
            " 26  caracteristica_verif_2      59915 non-null   object \n",
            " 27  cantidad_verif_2            59915 non-null   float64\n",
            " 28  estado_fisico_verif_2       59915 non-null   object \n",
            " 29  observaciones_verif_2       6661 non-null    object \n",
            " 30  composicion_verif_3         22056 non-null   object \n",
            " 31  categoria_verif_3           22056 non-null   object \n",
            " 32  caracteristica_verif_3      22056 non-null   object \n",
            " 33  cantidad_verif_3            22056 non-null   float64\n",
            " 34  estado_fisico_verif_3       22056 non-null   object \n",
            " 35  observaciones_verif_3       1680 non-null    object \n",
            " 36  composicion_verif_4         9621 non-null    object \n",
            " 37  categoria_verif_4           9621 non-null    object \n",
            " 38  caracteristica_verif_4      9621 non-null    object \n",
            " 39  cantidad_verif_4            9621 non-null    float64\n",
            " 40  estado_fisico_verif_4       9621 non-null    object \n",
            " 41  observaciones_verif_4       715 non-null     object \n",
            " 42  composicion_verif_5         4280 non-null    object \n",
            " 43  categoria_verif_5           4280 non-null    object \n",
            " 44  caracteristica_verif_5      4280 non-null    object \n",
            " 45  cantidad_verif_5            4280 non-null    float64\n",
            " 46  estado_fisico_verif_5       4280 non-null    object \n",
            " 47  observaciones_verif_5       419 non-null     object \n",
            " 48  composicion_verif_6         1791 non-null    object \n",
            " 49  categoria_verif_6           1791 non-null    object \n",
            " 50  caracteristica_verif_6      1791 non-null    object \n",
            " 51  cantidad_verif_6            1791 non-null    float64\n",
            " 52  estado_fisico_verif_6       1791 non-null    object \n",
            " 53  observaciones_verif_6       213 non-null     object \n",
            " 54  composicion_verif_7         889 non-null     object \n",
            " 55  categoria_verif_7           889 non-null     object \n",
            " 56  caracteristica_verif_7      889 non-null     object \n",
            " 57  cantidad_verif_7            889 non-null     float64\n",
            " 58  estado_fisico_verif_7       889 non-null     object \n",
            " 59  observaciones_verif_7       135 non-null     object \n",
            " 60  composicion_verif_8         516 non-null     object \n",
            " 61  categoria_verif_8           516 non-null     object \n",
            " 62  caracteristica_verif_8      516 non-null     object \n",
            " 63  cantidad_verif_8            516 non-null     float64\n",
            " 64  estado_fisico_verif_8       516 non-null     object \n",
            " 65  observaciones_verif_8       78 non-null      object \n",
            " 66  composicion_verif_9         252 non-null     object \n",
            " 67  categoria_verif_9           252 non-null     object \n",
            " 68  caracteristica_verif_9      252 non-null     object \n",
            " 69  cantidad_verif_9            252 non-null     float64\n",
            " 70  estado_fisico_verif_9       252 non-null     object \n",
            " 71  observaciones_verif_9       43 non-null      object \n",
            " 72  composicion_verif_10        142 non-null     object \n",
            " 73  categoria_verif_10          142 non-null     object \n",
            " 74  caracteristica_verif_10     142 non-null     object \n",
            " 75  cantidad_verif_10           142 non-null     float64\n",
            " 76  estado_fisico_verif_10      142 non-null     object \n",
            " 77  observaciones_verif_10      25 non-null      object \n",
            "dtypes: float64(12), int64(1), object(65)\n",
            "memory usage: 1.2 GB\n"
          ]
        }
      ]
    },
    {
      "cell_type": "code",
      "source": [
        "dfrrpp_res = dfrrpp_completo.filter(regex=(\"numero|certificado|fecha_retiro|generador$|transportista$|destino$|_verif_1$|_verif_2$|_verif_3$\")) #se filtra el df completo y se guarda en un nuevo df\n"
      ],
      "metadata": {
        "id": "UecRFrSD5mGj"
      },
      "execution_count": null,
      "outputs": []
    },
    {
      "cell_type": "code",
      "source": [
        "dfrrpp_res.info(memory_usage='deep') #estimación del peso del df"
      ],
      "metadata": {
        "colab": {
          "base_uri": "https://localhost:8080/"
        },
        "id": "erPkbyDl6KGg",
        "outputId": "3f997966-de4b-420c-cde2-233b4c3ec072"
      },
      "execution_count": null,
      "outputs": [
        {
          "output_type": "stream",
          "name": "stdout",
          "text": [
            "<class 'pandas.core.frame.DataFrame'>\n",
            "Int64Index: 395325 entries, 0 to 514950\n",
            "Data columns (total 36 columns):\n",
            " #   Column                      Non-Null Count   Dtype  \n",
            "---  ------                      --------------   -----  \n",
            " 0   numero                      395325 non-null  int64  \n",
            " 1   certificado                 395325 non-null  object \n",
            " 2   fecha_retiro                395325 non-null  object \n",
            " 3   cuit_generador              395325 non-null  object \n",
            " 4   razon_social_generador      395325 non-null  object \n",
            " 5   domicilio_generador         395325 non-null  object \n",
            " 6   localidad_generador         395325 non-null  object \n",
            " 7   cuit_transportista          395325 non-null  object \n",
            " 8   che_transportista           395325 non-null  float64\n",
            " 9   razon_social_transportista  395325 non-null  object \n",
            " 10  domicilio_transportista     395325 non-null  object \n",
            " 11  localidad_transportista     395325 non-null  object \n",
            " 12  destino                     395325 non-null  object \n",
            " 13  che_destino                 272877 non-null  float64\n",
            " 14  cuit_destino                395325 non-null  object \n",
            " 15  razon_social_destino        395325 non-null  object \n",
            " 16  domicilio_destino           395325 non-null  object \n",
            " 17  localidad_destino           395325 non-null  object \n",
            " 18  composicion_verif_1         395324 non-null  object \n",
            " 19  categoria_verif_1           395324 non-null  object \n",
            " 20  caracteristica_verif_1      395324 non-null  object \n",
            " 21  cantidad_verif_1            395324 non-null  float64\n",
            " 22  estado_fisico_verif_1       395324 non-null  object \n",
            " 23  observaciones_verif_1       92058 non-null   object \n",
            " 24  composicion_verif_2         59914 non-null   object \n",
            " 25  categoria_verif_2           59915 non-null   object \n",
            " 26  caracteristica_verif_2      59915 non-null   object \n",
            " 27  cantidad_verif_2            59915 non-null   float64\n",
            " 28  estado_fisico_verif_2       59915 non-null   object \n",
            " 29  observaciones_verif_2       6661 non-null    object \n",
            " 30  composicion_verif_3         22056 non-null   object \n",
            " 31  categoria_verif_3           22056 non-null   object \n",
            " 32  caracteristica_verif_3      22056 non-null   object \n",
            " 33  cantidad_verif_3            22056 non-null   float64\n",
            " 34  estado_fisico_verif_3       22056 non-null   object \n",
            " 35  observaciones_verif_3       1680 non-null    object \n",
            "dtypes: float64(5), int64(1), object(30)\n",
            "memory usage: 778.5 MB\n"
          ]
        }
      ]
    },
    {
      "cell_type": "code",
      "source": [
        "!pip install dateparser #se instala el paquete para trabajar con str con formato de fechas\n",
        "import dateparser #se importa el paquete"
      ],
      "metadata": {
        "colab": {
          "base_uri": "https://localhost:8080/"
        },
        "id": "JF8Yom3y6poi",
        "outputId": "37621667-6f1d-442b-9d49-afd60dc17202"
      },
      "execution_count": null,
      "outputs": [
        {
          "output_type": "stream",
          "name": "stdout",
          "text": [
            "Looking in indexes: https://pypi.org/simple, https://us-python.pkg.dev/colab-wheels/public/simple/\n",
            "Collecting dateparser\n",
            "  Downloading dateparser-1.1.4-py2.py3-none-any.whl (292 kB)\n",
            "\u001b[K     |████████████████████████████████| 292 kB 15.6 MB/s \n",
            "\u001b[?25hRequirement already satisfied: regex!=2019.02.19,!=2021.8.27 in /usr/local/lib/python3.7/dist-packages (from dateparser) (2022.6.2)\n",
            "Requirement already satisfied: pytz in /usr/local/lib/python3.7/dist-packages (from dateparser) (2022.6)\n",
            "Requirement already satisfied: python-dateutil in /usr/local/lib/python3.7/dist-packages (from dateparser) (2.8.2)\n",
            "Requirement already satisfied: tzlocal in /usr/local/lib/python3.7/dist-packages (from dateparser) (1.5.1)\n",
            "Requirement already satisfied: six>=1.5 in /usr/local/lib/python3.7/dist-packages (from python-dateutil->dateparser) (1.15.0)\n",
            "Installing collected packages: dateparser\n",
            "Successfully installed dateparser-1.1.4\n"
          ]
        }
      ]
    },
    {
      "cell_type": "code",
      "source": [
        "dfrrpp_res['fecha_retiro_2'] = dfrrpp_res.fecha_retiro.map(dateparser.parse) #se mapea cada una de las fechas y se modifica a un formato más estandarizado"
      ],
      "metadata": {
        "colab": {
          "base_uri": "https://localhost:8080/"
        },
        "id": "GTjxMn5h6poj",
        "outputId": "b699548f-cf49-44f8-fcfa-85b876e8363a"
      },
      "execution_count": null,
      "outputs": [
        {
          "output_type": "stream",
          "name": "stderr",
          "text": [
            "/usr/local/lib/python3.7/dist-packages/ipykernel_launcher.py:1: SettingWithCopyWarning: \n",
            "A value is trying to be set on a copy of a slice from a DataFrame.\n",
            "Try using .loc[row_indexer,col_indexer] = value instead\n",
            "\n",
            "See the caveats in the documentation: https://pandas.pydata.org/pandas-docs/stable/user_guide/indexing.html#returning-a-view-versus-a-copy\n",
            "  \"\"\"Entry point for launching an IPython kernel.\n"
          ]
        }
      ]
    },
    {
      "cell_type": "code",
      "source": [
        "dfrrpp_res.drop(labels='fecha_retiro', axis=1, inplace=True) #se dropea la columna anterior de fecha"
      ],
      "metadata": {
        "colab": {
          "base_uri": "https://localhost:8080/"
        },
        "id": "SgFbxMqJ6pok",
        "outputId": "ac66ebd9-8ccd-43af-fcaf-71f652d4f165"
      },
      "execution_count": null,
      "outputs": [
        {
          "output_type": "stream",
          "name": "stderr",
          "text": [
            "/usr/local/lib/python3.7/dist-packages/pandas/core/frame.py:4913: SettingWithCopyWarning: \n",
            "A value is trying to be set on a copy of a slice from a DataFrame\n",
            "\n",
            "See the caveats in the documentation: https://pandas.pydata.org/pandas-docs/stable/user_guide/indexing.html#returning-a-view-versus-a-copy\n",
            "  errors=errors,\n"
          ]
        }
      ]
    },
    {
      "cell_type": "code",
      "source": [
        "dfrrpp_res.rename(columns={'fecha_retiro_2':'fecha_retiro'}, inplace=True) #por ultimo se cambia el nombre de la columna de fecha"
      ],
      "metadata": {
        "colab": {
          "base_uri": "https://localhost:8080/"
        },
        "id": "KCYcqizf6pok",
        "outputId": "f26437ba-0eea-408f-a8c9-f703a37c2772"
      },
      "execution_count": null,
      "outputs": [
        {
          "output_type": "stream",
          "name": "stderr",
          "text": [
            "/usr/local/lib/python3.7/dist-packages/pandas/core/frame.py:5047: SettingWithCopyWarning: \n",
            "A value is trying to be set on a copy of a slice from a DataFrame\n",
            "\n",
            "See the caveats in the documentation: https://pandas.pydata.org/pandas-docs/stable/user_guide/indexing.html#returning-a-view-versus-a-copy\n",
            "  errors=errors,\n"
          ]
        }
      ]
    },
    {
      "cell_type": "code",
      "source": [
        "dfrrpp_res.head()"
      ],
      "metadata": {
        "colab": {
          "base_uri": "https://localhost:8080/",
          "height": 438
        },
        "id": "UjLxWjwK63lC",
        "outputId": "4955aa8c-3dec-4fae-a7b6-03b7d0b8731f"
      },
      "execution_count": null,
      "outputs": [
        {
          "output_type": "execute_result",
          "data": {
            "text/plain": [
              "    numero certificado            cuit_generador     razon_social_generador  \\\n",
              "0  3000312      875263  30-70759184/2 (Id:11081)             GAS LANUS S.A.   \n",
              "1  3000313      902328  30-67813830/0 (Id:55627)  WAL MART ARGENTINA S.R.L.   \n",
              "2  3000316      856441  30-50336489/8 (Id:53866)                 SIEMENS SA   \n",
              "4  3000321      902426       30-70969422/3 (Id:)             G P PHARM S.A.   \n",
              "7  3000325      880034  30-50104769/0 (Id:24747)  SEALED AIR ARGENTINA S.A.   \n",
              "\n",
              "                          domicilio_generador localidad_generador  \\\n",
              "0     25 DE MAYO Nº : 883 Ruta: : 210 (PAV?N)               LANUS   \n",
              "1                           SAAVEDRA Nº : S/N              MORENO   \n",
              "2  RUTA 3 Nº : KM 704 Ruta: : RUTA 3 Km:: 704        BAHIA BLANCA   \n",
              "4                            PANAMA Nº : 2121            MARTINEZ   \n",
              "7               ( 26 ) PRIMERA JUNTA Nº : 550             QUILMES   \n",
              "\n",
              "         cuit_transportista  che_transportista razon_social_transportista  \\\n",
              "0  30-71008458/7 (Id:37494)              355.0           LA RUMANA S.R.L.   \n",
              "1  30-70845639/6 (Id:37363)              247.0   FRANCO TRANSPORTES S.R.L   \n",
              "2  20-13549430/6 (Id:37593)              356.0       GARNICA, JULIO CESAR   \n",
              "4  30-71439504/8 (Id:53784)              486.0           MD SERVICIOS SRL   \n",
              "7  30-71123997/5 (Id:37451)               51.0       HOUSE AND TRUCK S.A.   \n",
              "\n",
              "      domicilio_transportista  ... cantidad_verif_2 estado_fisico_verif_2  \\\n",
              "0          LOS PINOS Nº : 155  ...              NaN                   NaN   \n",
              "1  FLORENCIO SANCHEZ Nº : 450  ...            450.0                Solido   \n",
              "2  LEONCIO MANSILLA Nº : 1787  ...              NaN                   NaN   \n",
              "4          SAN JUAN Nº : 2090  ...             28.0               Liquido   \n",
              "7            MARAÑÓN Nº : 840  ...            640.0                Solido   \n",
              "\n",
              "   observaciones_verif_2     composicion_verif_3  \\\n",
              "0                    NaN                     NaN   \n",
              "1                    NaN     Residuos especiales   \n",
              "2                    NaN                     NaN   \n",
              "4    Almacenado en cuba.                     NaN   \n",
              "7                    NaN  Agua con hidrocarburos   \n",
              "\n",
              "                                   categoria_verif_3 caracteristica_verif_3  \\\n",
              "0                                                NaN                    NaN   \n",
              "1  Y31 - Desechos que tengan como Constituyentes:...                  H13 -   \n",
              "2                                                NaN                    NaN   \n",
              "4                                                NaN                    NaN   \n",
              "7  Y9 - Mezclas y emulsiones de desecho de aceite...                  H12 -   \n",
              "\n",
              "  cantidad_verif_3 estado_fisico_verif_3 observaciones_verif_3 fecha_retiro  \n",
              "0              NaN                   NaN                   NaN   2016-05-30  \n",
              "1            100.0                Solido                   NaN   2016-05-31  \n",
              "2              NaN                   NaN                   NaN   2016-05-24  \n",
              "4              NaN                   NaN                   NaN   2016-05-27  \n",
              "7            400.0               Liquido                   NaN   2016-05-24  \n",
              "\n",
              "[5 rows x 36 columns]"
            ],
            "text/html": [
              "\n",
              "  <div id=\"df-48499f13-8f8b-4019-9250-205705e22d4c\">\n",
              "    <div class=\"colab-df-container\">\n",
              "      <div>\n",
              "<style scoped>\n",
              "    .dataframe tbody tr th:only-of-type {\n",
              "        vertical-align: middle;\n",
              "    }\n",
              "\n",
              "    .dataframe tbody tr th {\n",
              "        vertical-align: top;\n",
              "    }\n",
              "\n",
              "    .dataframe thead th {\n",
              "        text-align: right;\n",
              "    }\n",
              "</style>\n",
              "<table border=\"1\" class=\"dataframe\">\n",
              "  <thead>\n",
              "    <tr style=\"text-align: right;\">\n",
              "      <th></th>\n",
              "      <th>numero</th>\n",
              "      <th>certificado</th>\n",
              "      <th>cuit_generador</th>\n",
              "      <th>razon_social_generador</th>\n",
              "      <th>domicilio_generador</th>\n",
              "      <th>localidad_generador</th>\n",
              "      <th>cuit_transportista</th>\n",
              "      <th>che_transportista</th>\n",
              "      <th>razon_social_transportista</th>\n",
              "      <th>domicilio_transportista</th>\n",
              "      <th>...</th>\n",
              "      <th>cantidad_verif_2</th>\n",
              "      <th>estado_fisico_verif_2</th>\n",
              "      <th>observaciones_verif_2</th>\n",
              "      <th>composicion_verif_3</th>\n",
              "      <th>categoria_verif_3</th>\n",
              "      <th>caracteristica_verif_3</th>\n",
              "      <th>cantidad_verif_3</th>\n",
              "      <th>estado_fisico_verif_3</th>\n",
              "      <th>observaciones_verif_3</th>\n",
              "      <th>fecha_retiro</th>\n",
              "    </tr>\n",
              "  </thead>\n",
              "  <tbody>\n",
              "    <tr>\n",
              "      <th>0</th>\n",
              "      <td>3000312</td>\n",
              "      <td>875263</td>\n",
              "      <td>30-70759184/2 (Id:11081)</td>\n",
              "      <td>GAS LANUS S.A.</td>\n",
              "      <td>25 DE MAYO Nº : 883 Ruta: : 210 (PAV?N)</td>\n",
              "      <td>LANUS</td>\n",
              "      <td>30-71008458/7 (Id:37494)</td>\n",
              "      <td>355.0</td>\n",
              "      <td>LA RUMANA S.R.L.</td>\n",
              "      <td>LOS PINOS Nº : 155</td>\n",
              "      <td>...</td>\n",
              "      <td>NaN</td>\n",
              "      <td>NaN</td>\n",
              "      <td>NaN</td>\n",
              "      <td>NaN</td>\n",
              "      <td>NaN</td>\n",
              "      <td>NaN</td>\n",
              "      <td>NaN</td>\n",
              "      <td>NaN</td>\n",
              "      <td>NaN</td>\n",
              "      <td>2016-05-30</td>\n",
              "    </tr>\n",
              "    <tr>\n",
              "      <th>1</th>\n",
              "      <td>3000313</td>\n",
              "      <td>902328</td>\n",
              "      <td>30-67813830/0 (Id:55627)</td>\n",
              "      <td>WAL MART ARGENTINA S.R.L.</td>\n",
              "      <td>SAAVEDRA Nº : S/N</td>\n",
              "      <td>MORENO</td>\n",
              "      <td>30-70845639/6 (Id:37363)</td>\n",
              "      <td>247.0</td>\n",
              "      <td>FRANCO TRANSPORTES S.R.L</td>\n",
              "      <td>FLORENCIO SANCHEZ Nº : 450</td>\n",
              "      <td>...</td>\n",
              "      <td>450.0</td>\n",
              "      <td>Solido</td>\n",
              "      <td>NaN</td>\n",
              "      <td>Residuos especiales</td>\n",
              "      <td>Y31 - Desechos que tengan como Constituyentes:...</td>\n",
              "      <td>H13 -</td>\n",
              "      <td>100.0</td>\n",
              "      <td>Solido</td>\n",
              "      <td>NaN</td>\n",
              "      <td>2016-05-31</td>\n",
              "    </tr>\n",
              "    <tr>\n",
              "      <th>2</th>\n",
              "      <td>3000316</td>\n",
              "      <td>856441</td>\n",
              "      <td>30-50336489/8 (Id:53866)</td>\n",
              "      <td>SIEMENS SA</td>\n",
              "      <td>RUTA 3 Nº : KM 704 Ruta: : RUTA 3 Km:: 704</td>\n",
              "      <td>BAHIA BLANCA</td>\n",
              "      <td>20-13549430/6 (Id:37593)</td>\n",
              "      <td>356.0</td>\n",
              "      <td>GARNICA, JULIO CESAR</td>\n",
              "      <td>LEONCIO MANSILLA Nº : 1787</td>\n",
              "      <td>...</td>\n",
              "      <td>NaN</td>\n",
              "      <td>NaN</td>\n",
              "      <td>NaN</td>\n",
              "      <td>NaN</td>\n",
              "      <td>NaN</td>\n",
              "      <td>NaN</td>\n",
              "      <td>NaN</td>\n",
              "      <td>NaN</td>\n",
              "      <td>NaN</td>\n",
              "      <td>2016-05-24</td>\n",
              "    </tr>\n",
              "    <tr>\n",
              "      <th>4</th>\n",
              "      <td>3000321</td>\n",
              "      <td>902426</td>\n",
              "      <td>30-70969422/3 (Id:)</td>\n",
              "      <td>G P PHARM S.A.</td>\n",
              "      <td>PANAMA Nº : 2121</td>\n",
              "      <td>MARTINEZ</td>\n",
              "      <td>30-71439504/8 (Id:53784)</td>\n",
              "      <td>486.0</td>\n",
              "      <td>MD SERVICIOS SRL</td>\n",
              "      <td>SAN JUAN Nº : 2090</td>\n",
              "      <td>...</td>\n",
              "      <td>28.0</td>\n",
              "      <td>Liquido</td>\n",
              "      <td>Almacenado en cuba.</td>\n",
              "      <td>NaN</td>\n",
              "      <td>NaN</td>\n",
              "      <td>NaN</td>\n",
              "      <td>NaN</td>\n",
              "      <td>NaN</td>\n",
              "      <td>NaN</td>\n",
              "      <td>2016-05-27</td>\n",
              "    </tr>\n",
              "    <tr>\n",
              "      <th>7</th>\n",
              "      <td>3000325</td>\n",
              "      <td>880034</td>\n",
              "      <td>30-50104769/0 (Id:24747)</td>\n",
              "      <td>SEALED AIR ARGENTINA S.A.</td>\n",
              "      <td>( 26 ) PRIMERA JUNTA Nº : 550</td>\n",
              "      <td>QUILMES</td>\n",
              "      <td>30-71123997/5 (Id:37451)</td>\n",
              "      <td>51.0</td>\n",
              "      <td>HOUSE AND TRUCK S.A.</td>\n",
              "      <td>MARAÑÓN Nº : 840</td>\n",
              "      <td>...</td>\n",
              "      <td>640.0</td>\n",
              "      <td>Solido</td>\n",
              "      <td>NaN</td>\n",
              "      <td>Agua con hidrocarburos</td>\n",
              "      <td>Y9 - Mezclas y emulsiones de desecho de aceite...</td>\n",
              "      <td>H12 -</td>\n",
              "      <td>400.0</td>\n",
              "      <td>Liquido</td>\n",
              "      <td>NaN</td>\n",
              "      <td>2016-05-24</td>\n",
              "    </tr>\n",
              "  </tbody>\n",
              "</table>\n",
              "<p>5 rows × 36 columns</p>\n",
              "</div>\n",
              "      <button class=\"colab-df-convert\" onclick=\"convertToInteractive('df-48499f13-8f8b-4019-9250-205705e22d4c')\"\n",
              "              title=\"Convert this dataframe to an interactive table.\"\n",
              "              style=\"display:none;\">\n",
              "        \n",
              "  <svg xmlns=\"http://www.w3.org/2000/svg\" height=\"24px\"viewBox=\"0 0 24 24\"\n",
              "       width=\"24px\">\n",
              "    <path d=\"M0 0h24v24H0V0z\" fill=\"none\"/>\n",
              "    <path d=\"M18.56 5.44l.94 2.06.94-2.06 2.06-.94-2.06-.94-.94-2.06-.94 2.06-2.06.94zm-11 1L8.5 8.5l.94-2.06 2.06-.94-2.06-.94L8.5 2.5l-.94 2.06-2.06.94zm10 10l.94 2.06.94-2.06 2.06-.94-2.06-.94-.94-2.06-.94 2.06-2.06.94z\"/><path d=\"M17.41 7.96l-1.37-1.37c-.4-.4-.92-.59-1.43-.59-.52 0-1.04.2-1.43.59L10.3 9.45l-7.72 7.72c-.78.78-.78 2.05 0 2.83L4 21.41c.39.39.9.59 1.41.59.51 0 1.02-.2 1.41-.59l7.78-7.78 2.81-2.81c.8-.78.8-2.07 0-2.86zM5.41 20L4 18.59l7.72-7.72 1.47 1.35L5.41 20z\"/>\n",
              "  </svg>\n",
              "      </button>\n",
              "      \n",
              "  <style>\n",
              "    .colab-df-container {\n",
              "      display:flex;\n",
              "      flex-wrap:wrap;\n",
              "      gap: 12px;\n",
              "    }\n",
              "\n",
              "    .colab-df-convert {\n",
              "      background-color: #E8F0FE;\n",
              "      border: none;\n",
              "      border-radius: 50%;\n",
              "      cursor: pointer;\n",
              "      display: none;\n",
              "      fill: #1967D2;\n",
              "      height: 32px;\n",
              "      padding: 0 0 0 0;\n",
              "      width: 32px;\n",
              "    }\n",
              "\n",
              "    .colab-df-convert:hover {\n",
              "      background-color: #E2EBFA;\n",
              "      box-shadow: 0px 1px 2px rgba(60, 64, 67, 0.3), 0px 1px 3px 1px rgba(60, 64, 67, 0.15);\n",
              "      fill: #174EA6;\n",
              "    }\n",
              "\n",
              "    [theme=dark] .colab-df-convert {\n",
              "      background-color: #3B4455;\n",
              "      fill: #D2E3FC;\n",
              "    }\n",
              "\n",
              "    [theme=dark] .colab-df-convert:hover {\n",
              "      background-color: #434B5C;\n",
              "      box-shadow: 0px 1px 3px 1px rgba(0, 0, 0, 0.15);\n",
              "      filter: drop-shadow(0px 1px 2px rgba(0, 0, 0, 0.3));\n",
              "      fill: #FFFFFF;\n",
              "    }\n",
              "  </style>\n",
              "\n",
              "      <script>\n",
              "        const buttonEl =\n",
              "          document.querySelector('#df-48499f13-8f8b-4019-9250-205705e22d4c button.colab-df-convert');\n",
              "        buttonEl.style.display =\n",
              "          google.colab.kernel.accessAllowed ? 'block' : 'none';\n",
              "\n",
              "        async function convertToInteractive(key) {\n",
              "          const element = document.querySelector('#df-48499f13-8f8b-4019-9250-205705e22d4c');\n",
              "          const dataTable =\n",
              "            await google.colab.kernel.invokeFunction('convertToInteractive',\n",
              "                                                     [key], {});\n",
              "          if (!dataTable) return;\n",
              "\n",
              "          const docLinkHtml = 'Like what you see? Visit the ' +\n",
              "            '<a target=\"_blank\" href=https://colab.research.google.com/notebooks/data_table.ipynb>data table notebook</a>'\n",
              "            + ' to learn more about interactive tables.';\n",
              "          element.innerHTML = '';\n",
              "          dataTable['output_type'] = 'display_data';\n",
              "          await google.colab.output.renderOutput(dataTable, element);\n",
              "          const docLink = document.createElement('div');\n",
              "          docLink.innerHTML = docLinkHtml;\n",
              "          element.appendChild(docLink);\n",
              "        }\n",
              "      </script>\n",
              "    </div>\n",
              "  </div>\n",
              "  "
            ]
          },
          "metadata": {},
          "execution_count": 46
        }
      ]
    },
    {
      "cell_type": "code",
      "source": [
        "path_csv_rrpp_res = str('{}manifiestos_rree.csv'.format(mt_path))"
      ],
      "metadata": {
        "id": "Y_ktOlbv7B4k"
      },
      "execution_count": null,
      "outputs": []
    },
    {
      "cell_type": "code",
      "source": [
        "dfrrpp_res.to_csv(path_csv_rrpp_res, index=False, encoding='utf8') #se guarda el df"
      ],
      "metadata": {
        "id": "yb-zygO07B4l"
      },
      "execution_count": null,
      "outputs": []
    },
    {
      "cell_type": "code",
      "source": [],
      "metadata": {
        "id": "BqnvvkZF7Xxf"
      },
      "execution_count": null,
      "outputs": []
    }
  ]
}